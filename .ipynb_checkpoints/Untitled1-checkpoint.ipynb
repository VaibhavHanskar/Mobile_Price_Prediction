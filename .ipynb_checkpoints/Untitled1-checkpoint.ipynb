{
 "cells": [
  {
   "cell_type": "code",
   "execution_count": 16,
   "id": "355216ed",
   "metadata": {},
   "outputs": [],
   "source": [
    "import pandas as pd\n",
    "import numpy as np\n",
    "from pandas import Series,DataFrame"
   ]
  },
  {
   "cell_type": "code",
   "execution_count": 51,
   "id": "5779839f",
   "metadata": {},
   "outputs": [],
   "source": [
    "import pickle"
   ]
  },
  {
   "cell_type": "code",
   "execution_count": null,
   "id": "ab91f44a",
   "metadata": {},
   "outputs": [],
   "source": [
    "pickle.load"
   ]
  },
  {
   "cell_type": "code",
   "execution_count": 62,
   "id": "d5561280",
   "metadata": {},
   "outputs": [],
   "source": [
    "ram = []\n",
    "screen = []"
   ]
  },
  {
   "cell_type": "code",
   "execution_count": 67,
   "id": "30d01a44",
   "metadata": {},
   "outputs": [
    {
     "name": "stdout",
     "output_type": "stream",
     "text": [
      "Enter ram:9\n",
      "Enter screen size : 8\n"
     ]
    }
   ],
   "source": [
    "n = int(input('Enter ram:'))\n",
    "ram.append(n)\n",
    "z = int(input('Enter screen size : '))\n",
    "screen.append(z)"
   ]
  },
  {
   "cell_type": "code",
   "execution_count": null,
   "id": "fd19d3c5",
   "metadata": {},
   "outputs": [],
   "source": []
  },
  {
   "cell_type": "code",
   "execution_count": 68,
   "id": "ac51cd3c",
   "metadata": {},
   "outputs": [],
   "source": [
    "df = DataFrame({'RAM':ram,'Screen':screen})\n"
   ]
  },
  {
   "cell_type": "code",
   "execution_count": 69,
   "id": "87efe6e7",
   "metadata": {},
   "outputs": [
    {
     "data": {
      "text/html": [
       "<div>\n",
       "<style scoped>\n",
       "    .dataframe tbody tr th:only-of-type {\n",
       "        vertical-align: middle;\n",
       "    }\n",
       "\n",
       "    .dataframe tbody tr th {\n",
       "        vertical-align: top;\n",
       "    }\n",
       "\n",
       "    .dataframe thead th {\n",
       "        text-align: right;\n",
       "    }\n",
       "</style>\n",
       "<table border=\"1\" class=\"dataframe\">\n",
       "  <thead>\n",
       "    <tr style=\"text-align: right;\">\n",
       "      <th></th>\n",
       "      <th>RAM</th>\n",
       "      <th>Screen</th>\n",
       "    </tr>\n",
       "  </thead>\n",
       "  <tbody>\n",
       "    <tr>\n",
       "      <th>0</th>\n",
       "      <td>7</td>\n",
       "      <td>9</td>\n",
       "    </tr>\n",
       "    <tr>\n",
       "      <th>1</th>\n",
       "      <td>6</td>\n",
       "      <td>8</td>\n",
       "    </tr>\n",
       "    <tr>\n",
       "      <th>2</th>\n",
       "      <td>9</td>\n",
       "      <td>8</td>\n",
       "    </tr>\n",
       "  </tbody>\n",
       "</table>\n",
       "</div>"
      ],
      "text/plain": [
       "   RAM  Screen\n",
       "0    7       9\n",
       "1    6       8\n",
       "2    9       8"
      ]
     },
     "execution_count": 69,
     "metadata": {},
     "output_type": "execute_result"
    }
   ],
   "source": [
    "df"
   ]
  },
  {
   "cell_type": "code",
   "execution_count": 71,
   "id": "b0a4824c",
   "metadata": {},
   "outputs": [],
   "source": [
    "load = pickle.load(open('mobile_price_pred.sav','rb'))"
   ]
  },
  {
   "cell_type": "code",
   "execution_count": 72,
   "id": "4f7311d8",
   "metadata": {},
   "outputs": [
    {
     "data": {
      "text/plain": [
       "SVC(kernel='linear', random_state=0)"
      ]
     },
     "execution_count": 72,
     "metadata": {},
     "output_type": "execute_result"
    }
   ],
   "source": [
    "load"
   ]
  },
  {
   "cell_type": "code",
   "execution_count": null,
   "id": "b45bfadf",
   "metadata": {},
   "outputs": [],
   "source": [
    "['battery_power', 'clock_speed', 'dual_sim', 'fc', 'int_memory',\n",
    "       'mobile_wt', 'n_cores', 'pc', 'px_height', 'px_width', 'ram', 'sc_h',\n",
    "       'talk_time', 'wifi']"
   ]
  },
  {
   "cell_type": "code",
   "execution_count": 80,
   "id": "f976fa50",
   "metadata": {},
   "outputs": [],
   "source": [
    "battery =[]\n",
    "clock =[]\n",
    "sim =[]\n",
    "fcam = []\n",
    "internal =[]\n",
    "width = []\n",
    "core = []\n",
    "pcam = []\n",
    "px_height = []\n",
    "px_width = []\n",
    "ram =[]\n",
    "screen =[]\n",
    "tt = []\n",
    "wifi = []"
   ]
  },
  {
   "cell_type": "code",
   "execution_count": 81,
   "id": "cd6eaf29",
   "metadata": {},
   "outputs": [
    {
     "name": "stdout",
     "output_type": "stream",
     "text": [
      "Total RAM: 4\n",
      "Enter Battery Power:  543\n",
      "Battery Life: 44\n",
      "Number of Cores: 34324\n",
      "Clock Speed: 432\n",
      "Internal Memory: 23\n",
      "Primary Camera MegaPixel: 23\n",
      "Font Camera MegaPixel: 23423\n",
      "Pixel Height: 2\n",
      "Pixel Width: 123\n",
      "Dual Sim: 3\n",
      "Mobile width: 3\n",
      "Screen Width: 43\n",
      "Wifi: 3\n"
     ]
    }
   ],
   "source": [
    "r = int(input('Total RAM: '))\n",
    "bat = int(input('Enter Battery Power: '))\n",
    "life = int(input('Battery Life: '))\n",
    "cores = int(input('Number of Cores: '))\n",
    "clc = float(input('Clock Speed: '))\n",
    "inte = int(input('Internal Memory: '))\n",
    "cam1 = int(input('Primary Camera MegaPixel: '))\n",
    "cam2 = int(input('Font Camera MegaPixel: '))\n",
    "pxh = int(input('Pixel Height: '))\n",
    "pxw = int(input('Pixel Width: '))\n",
    "sima = int(input('Dual Sim: '))\n",
    "mw = int(input('Mobile width: '))\n",
    "scrw = int(input('Screen Width: '))\n",
    "network = int(input('Wifi: '))"
   ]
  },
  {
   "cell_type": "code",
   "execution_count": 82,
   "id": "5b945ec8",
   "metadata": {},
   "outputs": [],
   "source": [
    "battery.append(bat)\n",
    "clock.append(clc)\n",
    "sim.append(sima) \n",
    "fcam.append(cam2) \n",
    "internal.append(inte) \n",
    "width.append(mw) \n",
    "core.append(cores) \n",
    "pcam.append(cam2) \n",
    "px_height.append(pxh) \n",
    "px_width.append(pxw) \n",
    "ram.append(r) \n",
    "screen.append(scrw) \n",
    "tt.append(life) \n",
    "wifi.append(network) "
   ]
  },
  {
   "cell_type": "code",
   "execution_count": 83,
   "id": "e5bb0998",
   "metadata": {},
   "outputs": [],
   "source": [
    "df = DataFrame({'battery_power','clock_speed','dual_sim','fc','int_memory','mobile_wt','n_cores','pc','px_height','px_width','ram','sc_h','talk_time', 'wifi'})"
   ]
  },
  {
   "cell_type": "code",
   "execution_count": 85,
   "id": "4b127eeb",
   "metadata": {},
   "outputs": [
    {
     "data": {
      "text/html": [
       "<div>\n",
       "<style scoped>\n",
       "    .dataframe tbody tr th:only-of-type {\n",
       "        vertical-align: middle;\n",
       "    }\n",
       "\n",
       "    .dataframe tbody tr th {\n",
       "        vertical-align: top;\n",
       "    }\n",
       "\n",
       "    .dataframe thead th {\n",
       "        text-align: right;\n",
       "    }\n",
       "</style>\n",
       "<table border=\"1\" class=\"dataframe\">\n",
       "  <thead>\n",
       "    <tr style=\"text-align: right;\">\n",
       "      <th></th>\n",
       "      <th>0</th>\n",
       "    </tr>\n",
       "  </thead>\n",
       "  <tbody>\n",
       "    <tr>\n",
       "      <th>0</th>\n",
       "      <td>fc</td>\n",
       "    </tr>\n",
       "    <tr>\n",
       "      <th>1</th>\n",
       "      <td>wifi</td>\n",
       "    </tr>\n",
       "    <tr>\n",
       "      <th>2</th>\n",
       "      <td>n_cores</td>\n",
       "    </tr>\n",
       "    <tr>\n",
       "      <th>3</th>\n",
       "      <td>pc</td>\n",
       "    </tr>\n",
       "    <tr>\n",
       "      <th>4</th>\n",
       "      <td>ram</td>\n",
       "    </tr>\n",
       "    <tr>\n",
       "      <th>5</th>\n",
       "      <td>int_memory</td>\n",
       "    </tr>\n",
       "    <tr>\n",
       "      <th>6</th>\n",
       "      <td>mobile_wt</td>\n",
       "    </tr>\n",
       "    <tr>\n",
       "      <th>7</th>\n",
       "      <td>px_height</td>\n",
       "    </tr>\n",
       "    <tr>\n",
       "      <th>8</th>\n",
       "      <td>px_width</td>\n",
       "    </tr>\n",
       "    <tr>\n",
       "      <th>9</th>\n",
       "      <td>battery_power</td>\n",
       "    </tr>\n",
       "    <tr>\n",
       "      <th>10</th>\n",
       "      <td>sc_h</td>\n",
       "    </tr>\n",
       "    <tr>\n",
       "      <th>11</th>\n",
       "      <td>dual_sim</td>\n",
       "    </tr>\n",
       "    <tr>\n",
       "      <th>12</th>\n",
       "      <td>clock_speed</td>\n",
       "    </tr>\n",
       "    <tr>\n",
       "      <th>13</th>\n",
       "      <td>talk_time</td>\n",
       "    </tr>\n",
       "  </tbody>\n",
       "</table>\n",
       "</div>"
      ],
      "text/plain": [
       "                0\n",
       "0              fc\n",
       "1            wifi\n",
       "2         n_cores\n",
       "3              pc\n",
       "4             ram\n",
       "5      int_memory\n",
       "6       mobile_wt\n",
       "7       px_height\n",
       "8        px_width\n",
       "9   battery_power\n",
       "10           sc_h\n",
       "11       dual_sim\n",
       "12    clock_speed\n",
       "13      talk_time"
      ]
     },
     "execution_count": 85,
     "metadata": {},
     "output_type": "execute_result"
    }
   ],
   "source": [
    "df"
   ]
  },
  {
   "cell_type": "code",
   "execution_count": 84,
   "id": "d458e34f",
   "metadata": {},
   "outputs": [
    {
     "ename": "SyntaxError",
     "evalue": "invalid syntax (Temp/ipykernel_33172/778828068.py, line 1)",
     "output_type": "error",
     "traceback": [
      "\u001b[1;36m  File \u001b[1;32m\"C:\\Users\\vaibh\\AppData\\Local\\Temp/ipykernel_33172/778828068.py\"\u001b[1;36m, line \u001b[1;32m1\u001b[0m\n\u001b[1;33m    loan.predict(df[])\u001b[0m\n\u001b[1;37m                    ^\u001b[0m\n\u001b[1;31mSyntaxError\u001b[0m\u001b[1;31m:\u001b[0m invalid syntax\n"
     ]
    }
   ],
   "source": [
    "loan.predict(df[])"
   ]
  },
  {
   "cell_type": "code",
   "execution_count": null,
   "id": "b0017f3d",
   "metadata": {},
   "outputs": [],
   "source": []
  }
 ],
 "metadata": {
  "kernelspec": {
   "display_name": "Python 3 (ipykernel)",
   "language": "python",
   "name": "python3"
  },
  "language_info": {
   "codemirror_mode": {
    "name": "ipython",
    "version": 3
   },
   "file_extension": ".py",
   "mimetype": "text/x-python",
   "name": "python",
   "nbconvert_exporter": "python",
   "pygments_lexer": "ipython3",
   "version": "3.9.7"
  }
 },
 "nbformat": 4,
 "nbformat_minor": 5
}
